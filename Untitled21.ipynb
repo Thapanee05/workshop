{
  "nbformat": 4,
  "nbformat_minor": 0,
  "metadata": {
    "colab": {
      "name": "Untitled21.ipynb",
      "provenance": [],
      "mount_file_id": "1psX4blI9QMKbb5WXB8Xr0OxbtzIsZQNB",
      "authorship_tag": "ABX9TyPjVkI5WyaoqKAGxS8OtVPJ",
      "include_colab_link": true
    },
    "kernelspec": {
      "name": "python3",
      "display_name": "Python 3"
    },
    "language_info": {
      "name": "python"
    }
  },
  "cells": [
    {
      "cell_type": "markdown",
      "metadata": {
        "id": "view-in-github",
        "colab_type": "text"
      },
      "source": [
        "<a href=\"https://colab.research.google.com/github/Thapanee05/workshop/blob/main/Untitled21.ipynb\" target=\"_parent\"><img src=\"https://colab.research.google.com/assets/colab-badge.svg\" alt=\"Open In Colab\"/></a>"
      ]
    },
    {
      "cell_type": "code",
      "execution_count": null,
      "metadata": {
        "id": "GTwDjyzfMm5V"
      },
      "outputs": [],
      "source": [
        "!pip install tensorflow"
      ]
    },
    {
      "cell_type": "code",
      "source": [
        "import matplotlib.pyplot as plt\n",
        "import numpy as np\n",
        "import os\n",
        "import PIL\n",
        "import tensorflow as tf\n",
        "from tensorflow import keras\n",
        "from tensorflow.keras import layers\n",
        "from tensorflow.keras.models import Sequential\n",
        "from IPython.display import Image"
      ],
      "metadata": {
        "id": "Xad49YgnU7aQ"
      },
      "execution_count": null,
      "outputs": []
    },
    {
      "cell_type": "code",
      "source": [
        "import pathlib\n",
        "path = \"drive/My Drive/Colab Notebooks/Rice\" \n",
        "data_dir = pathlib.Path(path)"
      ],
      "metadata": {
        "id": "zmJosxvJU-l1"
      },
      "execution_count": null,
      "outputs": []
    },
    {
      "cell_type": "code",
      "source": [
        "image_count = len(list(data_dir.glob('*/*.jpg')))\n",
        "print(image_count)"
      ],
      "metadata": {
        "id": "4KOqSpStVCCa"
      },
      "execution_count": null,
      "outputs": []
    },
    {
      "cell_type": "code",
      "source": [
        "Ricerd = list(data_dir.glob('Ricerd/*')) \n",
        "PIL.Image.open(str(Ricerd[37]))"
      ],
      "metadata": {
        "id": "uyM4TjMWVD_T"
      },
      "execution_count": null,
      "outputs": []
    },
    {
      "cell_type": "code",
      "source": [
        "batch_size = 32\n",
        "img_height = 243\n",
        "img_width = 182"
      ],
      "metadata": {
        "id": "QbjVgUFoVGuw"
      },
      "execution_count": null,
      "outputs": []
    },
    {
      "cell_type": "code",
      "source": [
        "train_ds = tf.keras.preprocessing.image_dataset_from_directory(\n",
        "data_dir,\n",
        "validation_split=0.2,\n",
        "subset=\"training\",\n",
        "seed=123,\n",
        "image_size=(img_height, img_width),\n",
        "batch_size=batch_size)"
      ],
      "metadata": {
        "id": "YV-Z75TdVJjh"
      },
      "execution_count": null,
      "outputs": []
    },
    {
      "cell_type": "code",
      "source": [
        "val_ds = tf.keras.preprocessing.image_dataset_from_directory(\n",
        "data_dir,\n",
        "validation_split=0.2,\n",
        "subset=\"validation\",\n",
        "seed=123,\n",
        "image_size=(img_height, img_width),\n",
        "batch_size=batch_size)"
      ],
      "metadata": {
        "id": "KiFh7IiHVL7D"
      },
      "execution_count": null,
      "outputs": []
    },
    {
      "cell_type": "code",
      "source": [
        "class_names = train_ds.class_names\n",
        "print(class_names)"
      ],
      "metadata": {
        "id": "6XXhmQSRVN1u"
      },
      "execution_count": null,
      "outputs": []
    },
    {
      "cell_type": "code",
      "source": [
        "import matplotlib.pyplot as plt\n",
        "\n",
        "plt.figure(figsize=(10, 10))\n",
        "for images, labels in train_ds.take(1):\n",
        "  for i in range(9):\n",
        "    ax = plt.subplot(3, 3, i + 1)\n",
        "    plt.imshow(images[i].numpy().astype(\"uint8\"))\n",
        "    plt.title(class_names[labels[i]])\n",
        "    plt.axis(\"off\")"
      ],
      "metadata": {
        "id": "GJNwTwJCVPvk"
      },
      "execution_count": null,
      "outputs": []
    },
    {
      "cell_type": "code",
      "source": [
        "normalization_layer = layers.Rescaling(1./255)"
      ],
      "metadata": {
        "id": "uCfWSGyjVT3E"
      },
      "execution_count": null,
      "outputs": []
    },
    {
      "cell_type": "code",
      "source": [
        "normalized_ds = train_ds.map(lambda x, y: (normalization_layer(x), y))\n",
        "image_batch, labels_batch = next(iter(normalized_ds))\n",
        "first_image = image_batch[0]\n",
        "print(np.min(first_image), np.max(first_image))"
      ],
      "metadata": {
        "id": "O6pMfWUvVV2B"
      },
      "execution_count": null,
      "outputs": []
    },
    {
      "cell_type": "code",
      "source": [
        "num_classes = 4\n",
        "model = Sequential([\n",
        "layers.experimental.preprocessing.Rescaling(1./255, input_shape=(img_height, img_width, 3)),\n",
        "layers.Conv2D(16, 3, padding='same', activation='relu'),\n",
        "layers.MaxPooling2D(),\n",
        "layers.Conv2D(32, 3, padding='same', activation='relu'),\n",
        "layers.MaxPooling2D(),\n",
        "layers.Conv2D(64, 3, padding='same', activation='relu'),\n",
        "layers.MaxPooling2D(),\n",
        "layers.Flatten(),\n",
        "layers.Dense(128, activation='relu'),\n",
        "layers.Dense(num_classes)])"
      ],
      "metadata": {
        "id": "gPbeGjIfVWeT"
      },
      "execution_count": null,
      "outputs": []
    },
    {
      "cell_type": "code",
      "source": [
        "model.compile(optimizer='adam',\n",
        "loss=tf.keras.losses.SparseCategoricalCrossentropy(from_logits=True),metrics=['accuracy'])"
      ],
      "metadata": {
        "id": "Zwm4uV7pVYz5"
      },
      "execution_count": null,
      "outputs": []
    },
    {
      "cell_type": "code",
      "source": [
        "model.summary()"
      ],
      "metadata": {
        "id": "MBogjKiEVa3o"
      },
      "execution_count": null,
      "outputs": []
    },
    {
      "cell_type": "code",
      "source": [
        "epochs=10\n",
        "history = model.fit(train_ds,\n",
        "validation_data=val_ds,\n",
        "epochs=epochs)"
      ],
      "metadata": {
        "id": "F-voUDWLVc7R"
      },
      "execution_count": null,
      "outputs": []
    },
    {
      "cell_type": "code",
      "source": [
        "acc = history.history['accuracy']\n",
        "val_acc = history.history['val_accuracy']\n",
        "loss = history.history['loss']\n",
        "val_loss = history.history['val_loss']\n",
        "epochs_range = range(epochs)\n",
        "plt.figure(figsize=(8, 8))\n",
        "plt.subplot(1, 2, 1)\n",
        "plt.plot(epochs_range, acc, label='Training Accuracy')\n",
        "plt.plot(epochs_range, val_acc, label='Validation Accuracy')\n",
        "plt.legend(loc='lower right')\n",
        "plt.title('Training and Validation Accuracy')\n",
        "plt.subplot(1, 2, 2)\n",
        "plt.plot(epochs_range, loss, label='Training Loss')\n",
        "plt.plot(epochs_range, val_loss, label='Validation Loss')\n",
        "plt.legend(loc='upper right')\n",
        "plt.title('Training and Validation Loss')\n",
        "plt.show()"
      ],
      "metadata": {
        "id": "zVENqTvrVfDn"
      },
      "execution_count": null,
      "outputs": []
    },
    {
      "cell_type": "code",
      "source": [
        "path = \"/content/drive/My Drive/Colab Notebooks/Rice/Riceml/riceml48.jpg\"\n",
        "img = keras.preprocessing.image.load_img(\n",
        "path, target_size=(img_height, img_width))\n",
        "img_array = keras.preprocessing.image.img_to_array(img)\n",
        "img_array = tf.expand_dims(img_array, 0)\n",
        "predictions = model.predict(img_array)\n",
        "score = tf.nn.softmax(predictions[0])\n",
        "display(Image(filename=path))\n",
        "print(\n",
        "\"This image most likely belongs to {} with a {:.2f} percent confidence.\"\n",
        ".format(class_names[np.argmax(score)], 100 * np.max(score)))"
      ],
      "metadata": {
        "id": "3Rsczr1-Vh3f"
      },
      "execution_count": null,
      "outputs": []
    },
    {
      "cell_type": "code",
      "source": [
        "path = \"/content/drive/My Drive/Colab Notebooks/Rice/Ricerd/ricerd43.jpg\"\n",
        "img = keras.preprocessing.image.load_img(\n",
        "path, target_size=(img_height, img_width))\n",
        "img_array = keras.preprocessing.image.img_to_array(img)\n",
        "img_array = tf.expand_dims(img_array, 0)\n",
        "predictions = model.predict(img_array)\n",
        "score = tf.nn.softmax(predictions[0])\n",
        "display(Image(filename=path))\n",
        "print(\n",
        "\"This image most likely belongs to {} with a {:.2f} percent confidence.\"\n",
        ".format(class_names[np.argmax(score)], 100 * np.max(score)))"
      ],
      "metadata": {
        "id": "wQA2gba7Vogo"
      },
      "execution_count": null,
      "outputs": []
    },
    {
      "cell_type": "code",
      "source": [
        "path = \"/content/drive/My Drive/Colab Notebooks/Rice/Riceten/riceten27.jpg\"\n",
        "img = keras.preprocessing.image.load_img(\n",
        "path, target_size=(img_height, img_width))\n",
        "img_array = keras.preprocessing.image.img_to_array(img)\n",
        "img_array = tf.expand_dims(img_array, 0)\n",
        "predictions = model.predict(img_array)\n",
        "score = tf.nn.softmax(predictions[0])\n",
        "display(Image(filename=path))\n",
        "print(\n",
        "\"This image most likely belongs to {} with a {:.2f} percent confidence.\"\n",
        ".format(class_names[np.argmax(score)], 100 * np.max(score)))"
      ],
      "metadata": {
        "id": "vyOLwHUqWJb0"
      },
      "execution_count": null,
      "outputs": []
    },
    {
      "cell_type": "code",
      "source": [
        "path = \"/content/drive/My Drive/Colab Notebooks/Rice/not found/d43.jpg\"\n",
        "img = keras.preprocessing.image.load_img(\n",
        "path, target_size=(img_height, img_width))\n",
        "img_array = keras.preprocessing.image.img_to_array(img)\n",
        "img_array = tf.expand_dims(img_array, 0)\n",
        "predictions = model.predict(img_array)\n",
        "score = tf.nn.softmax(predictions[0])\n",
        "display(Image(filename=path))\n",
        "print(\n",
        "\"This image most likely belongs to {} with a {:.2f} percent confidence.\"\n",
        ".format(class_names[np.argmax(score)], 100 * np.max(score)))"
      ],
      "metadata": {
        "id": "CzZBk6PZWKUn"
      },
      "execution_count": null,
      "outputs": []
    }
  ]
}